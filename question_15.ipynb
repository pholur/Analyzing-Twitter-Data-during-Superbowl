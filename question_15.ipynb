{
 "cells": [
  {
   "cell_type": "code",
   "execution_count": 1,
   "metadata": {},
   "outputs": [],
   "source": [
    "import json \n",
    "# sort tweets into Washington vs. Massachusetts\n",
    "tweets_WA = []\n",
    "tweets_MA = []\n",
    "f = 'ECE219_tweet_data/tweets_#superbowl.txt'\n",
    "for line in open(f, 'r'):\n",
    "    tweet = json.loads(line)\n",
    "    loc = tweet['tweet']['user']['location']\n",
    "    if \" WA\" in loc or (\"Washington\" in loc and \"DC\" not in loc and \"D.C.\" not in loc):\n",
    "        tweets_WA.append(tweet['tweet']['text'])\n",
    "    elif \" MA\" in loc or \"Massachusetts\" in loc:\n",
    "        tweets_MA.append(tweet['tweet']['text'])"
   ]
  },
  {
   "cell_type": "code",
   "execution_count": 2,
   "metadata": {},
   "outputs": [
    {
     "name": "stdout",
     "output_type": "stream",
     "text": [
      "12548\n",
      "13687\n"
     ]
    }
   ],
   "source": [
    "print(len(tweets_WA)) \n",
    "print(len(tweets_MA)) "
   ]
  },
  {
   "cell_type": "code",
   "execution_count": 3,
   "metadata": {},
   "outputs": [
    {
     "name": "stderr",
     "output_type": "stream",
     "text": [
      "[nltk_data] Downloading package stopwords to\n",
      "[nltk_data]     /Users/meganwilliams/nltk_data...\n",
      "[nltk_data]   Package stopwords is already up-to-date!\n",
      "[nltk_data] Downloading package wordnet to\n",
      "[nltk_data]     /Users/meganwilliams/nltk_data...\n",
      "[nltk_data]   Package wordnet is already up-to-date!\n",
      "[nltk_data] Downloading package averaged_perceptron_tagger to\n",
      "[nltk_data]     /Users/meganwilliams/nltk_data...\n",
      "[nltk_data]   Package averaged_perceptron_tagger is already up-to-\n",
      "[nltk_data]       date!\n"
     ]
    },
    {
     "data": {
      "text/plain": [
       "True"
      ]
     },
     "execution_count": 3,
     "metadata": {},
     "output_type": "execute_result"
    }
   ],
   "source": [
    "import nltk\n",
    "nltk.download('stopwords')\n",
    "nltk.download('wordnet')\n",
    "nltk.download('averaged_perceptron_tagger')\n",
    "        "
   ]
  },
  {
   "cell_type": "code",
   "execution_count": 4,
   "metadata": {},
   "outputs": [],
   "source": [
    "# Convert tweets to TF-IDF\n",
    "import numpy as np\n",
    "import random\n",
    "from sklearn.feature_extraction import text\n",
    "from sklearn.feature_extraction.text import CountVectorizer\n",
    "from sklearn.feature_extraction.text import TfidfTransformer\n",
    "from nltk import pos_tag\n",
    "from nltk.corpus import stopwords\n",
    "from string import punctuation\n",
    "\n",
    "def build_vectorizer(min_df):\n",
    "    wnl = nltk.wordnet.WordNetLemmatizer()\n",
    "    stop_words_skt = text.ENGLISH_STOP_WORDS\n",
    "    stop_words_en = stopwords.words('english')\n",
    "    combined_stopwords = set.union(set(stop_words_en),set(punctuation),set(stop_words_skt))\n",
    "    \n",
    "    analyzer = CountVectorizer().build_analyzer()\n",
    "\n",
    "    def lemmatize_sent(list_word):\n",
    "        # Text input is string, returns array of lowercased strings(words).\n",
    "        return [wnl.lemmatize(word.lower(), pos=penn2morphy(tag))\n",
    "                for word, tag in pos_tag(list_word)]\n",
    "            \n",
    "    def stem_rmv_punc(doc):\n",
    "        return (word for word in lemmatize_sent(analyzer(doc)) if word not in combined_stopwords and not word.isdigit())\n",
    "\n",
    "    def penn2morphy(penntag):\n",
    "        \"\"\" Converts Penn Treebank tags to WordNet. \"\"\"\n",
    "        morphy_tag = {'NN':'n', 'JJ':'a',\n",
    "                'VB':'v', 'RB':'r'}\n",
    "        try:\n",
    "            return morphy_tag[penntag[:2]]\n",
    "        except:\n",
    "            return 'n'\n",
    "\n",
    "    return CountVectorizer(min_df=min_df, analyzer=stem_rmv_punc, stop_words='english')\n",
    "\n",
    "def vectorize_data(data1, data2, min_df=3):\n",
    "    train_dataset = data1 + data2\n",
    "    Bin_Target_Train = np.zeros(len(train_dataset))\n",
    "    Bin_Target_Train[0:len(data1)] = 1\n",
    "    c = zip(train_dataset, Bin_Target_Train)\n",
    "    random.shuffle(c)\n",
    "    train_dataset, Bin_Target_Train = zip(*c)\n",
    "\n",
    "    count_vect = build_vectorizer(min_df=min_df)\n",
    "\n",
    "    X_train_counts = count_vect.fit_transform(train_dataset)\n",
    "    #X_test_counts = count_vect.transform(test_dataset.data)\n",
    "\n",
    "    # Report the shape of the TF-IDF matrices of the train and test subsets respectively**\n",
    "    tfidf_transformer = TfidfTransformer()\n",
    "    X_train_tfidf = tfidf_transformer.fit_transform(X_train_counts)\n",
    "    #X_test_tfidf = tfidf_transformer.transform(X_test_counts)\n",
    "\n",
    "    return X_train_tfidf, Bin_Target_Train\n",
    "\n",
    "X_train_tfidf, Bin_Target_Train = vectorize_data(tweets_WA, tweets_MA)"
   ]
  },
  {
   "cell_type": "code",
   "execution_count": 5,
   "metadata": {},
   "outputs": [
    {
     "name": "stdout",
     "output_type": "stream",
     "text": [
      "(26235, 5448)\n"
     ]
    }
   ],
   "source": [
    "print(X_train_tfidf.shape)"
   ]
  },
  {
   "cell_type": "code",
   "execution_count": 6,
   "metadata": {},
   "outputs": [],
   "source": [
    "# Dimension Reduction\n",
    "from sklearn.decomposition import TruncatedSVD\n",
    "from sklearn.utils.extmath import randomized_svd\n",
    "\n",
    "def LSI_(X_train_tfidf):\n",
    "\n",
    "    svd = TruncatedSVD(n_components=50, random_state=0)\n",
    "\n",
    "    U, Sigma, VT = randomized_svd(X_train_tfidf, \n",
    "                              n_components=50,\n",
    "                              n_iter=5,\n",
    "                              random_state=None)\n",
    "\n",
    "    # print U.shape, Sigma.shape, VT.shape\n",
    "    X_train_r = svd.fit_transform(X_train_tfidf)\n",
    "    #X_test_r = svd.transform(X_test_tfidf)\n",
    "    Err_LSI = 0\n",
    "    A = np.dot(np.dot(U,np.diag(Sigma)),VT)\n",
    "    Err_LSI = np.sum(np.array(X_train_tfidf - A)**2)\n",
    "    return X_train_r, Err_LSI\n",
    "\n",
    "X, _  = LSI_(X_train_tfidf)"
   ]
  },
  {
   "cell_type": "code",
   "execution_count": 9,
   "metadata": {},
   "outputs": [],
   "source": [
    "#  Helper Functions\n",
    "from sklearn.metrics import confusion_matrix, accuracy_score, precision_score, recall_score, roc_curve, auc\n",
    "import itertools\n",
    "import matplotlib.pyplot as plt\n",
    "\n",
    "def print_metrics(y_true, y_predict, options= \"binary\" ):\n",
    "    print('Accuracy: %f' % accuracy_score(y_true, y_predict))\n",
    "    print('Precision: %f'% precision_score(y_true, y_predict,average = options))\n",
    "    print('Recall: %f'% recall_score(y_true, y_predict,average = options))\n",
    "    print('F1-score: %f' % f1_score(y_true, y_predict,average = options))\n",
    "    \n",
    "\n",
    "def plot_roc(fpr, tpr):\n",
    "    fig, ax = plt.subplots()\n",
    "\n",
    "    roc_auc = auc(fpr, tpr)\n",
    "\n",
    "    ax.plot(fpr, tpr, lw=2, label='area under curve = %0.4f' % roc_auc)\n",
    "\n",
    "    ax.grid(color='0.7', linestyle='--', linewidth=1)\n",
    "\n",
    "    ax.set_xlim([-0.1, 1.1])\n",
    "    ax.set_ylim([0.0, 1.05])\n",
    "    ax.set_xlabel('False Positive Rate', fontsize=15)\n",
    "    ax.set_ylabel('True Positive Rate', fontsize=15)\n",
    "\n",
    "    ax.legend(loc=\"lower right\")\n",
    "\n",
    "    for label in ax.get_xticklabels() + ax.get_yticklabels():\n",
    "        label.set_fontsize(15)\n",
    "        \n",
    "def fit_predict_and_plot_roc1(sv_instance, test_data, test_label):\n",
    " \n",
    "    if hasattr(sv_instance, 'decision_function'):\n",
    "        prob_score = sv_instance.decision_function(test_data)\n",
    "        fpr, tpr, _ = roc_curve(test_label, prob_score)\n",
    "    else:\n",
    "        prob_score = sv_instance.predict_proba(test_data)\n",
    "        fpr, tpr, _ = roc_curve(test_label, prob_score[:, 1])\n",
    "\n",
    "    plot_roc(fpr, tpr)\n",
    "\n",
    "\n",
    "def plot_confusion_matrix(cm, classes,\n",
    "                          normalize=False,\n",
    "                          title='Confusion matrix',\n",
    "                          cmap=plt.cm.Blues):\n",
    "    \"\"\"\n",
    "    This function prints and plots the confusion matrix.\n",
    "    Normalization can be applied by setting `normalize=True`.\n",
    "    \"\"\"\n",
    "    if normalize:\n",
    "        cm = cm.astype('float') / cm.sum(axis=1)[:, np.newaxis]\n",
    "        print(\"Normalized confusion matrix\")\n",
    "    else:\n",
    "        print('Confusion matrix, without normalization')\n",
    "\n",
    "    print(cm)\n",
    "\n",
    "    plt.imshow(cm, interpolation='nearest', cmap=cmap)\n",
    "    plt.title(title)\n",
    "    plt.colorbar()\n",
    "    tick_marks = np.arange(len(classes))\n",
    "    plt.xticks(tick_marks, classes, rotation=45)\n",
    "    plt.yticks(tick_marks, classes)\n",
    "\n",
    "    fmt = '.2f' if normalize else 'd'\n",
    "    thresh = cm.max() / 2.\n",
    "    for i, j in itertools.product(range(cm.shape[0]), range(cm.shape[1])):\n",
    "        plt.text(j, i, format(cm[i, j], fmt),\n",
    "                 horizontalalignment=\"center\",\n",
    "                 color=\"white\" if cm[i, j] > thresh else \"black\")\n",
    "\n",
    "    plt.ylabel('True label')\n",
    "    plt.xlabel('Predicted label')\n",
    "    plt.tight_layout()"
   ]
  },
  {
   "cell_type": "code",
   "execution_count": 11,
   "metadata": {},
   "outputs": [
    {
     "data": {
      "image/png": "[encoded data removed]",
      "text/plain": [
       "<Figure size 432x288 with 1 Axes>"
      ]
     },
     "metadata": {
      "needs_background": "light"
     },
     "output_type": "display_data"
    },
    {
     "name": "stdout",
     "output_type": "stream",
     "text": [
      "Best C: 100.000000\n",
      "Accuracy: 0.784563\n",
      "Precision: 0.902126\n",
      "Recall: 0.616535\n",
      "Normalized confusion matrix\n",
      "[[0.93372178 0.06627822]\n",
      " [0.37809752 0.62190248]]\n"
     ]
    },
    {
     "data": {
      "image/png": "[encoded data removed]",
      "text/plain": [
       "<Figure size 432x288 with 1 Axes>"
      ]
     },
     "metadata": {
      "needs_background": "light"
     },
     "output_type": "display_data"
    },
    {
     "data": {
      "image/png": "[encoded data removed]",
      "text/plain": [
       "<Figure size 432x288 with 2 Axes>"
      ]
     },
     "metadata": {
      "needs_background": "light"
     },
     "output_type": "display_data"
    }
   ],
   "source": [
    "# Logistic Classifier\n",
    "import numpy as np\n",
    "import matplotlib.pyplot as plt\n",
    "from sklearn.linear_model import LogisticRegression\n",
    "from sklearn.metrics import confusion_matrix, accuracy_score, precision_score, recall_score, roc_curve, f1_score\n",
    "from sklearn.model_selection import KFold, train_test_split\n",
    "\n",
    "\n",
    "def logistic_classifier(X, y):\n",
    "    c_values = 10.0 ** np.array(range(-3,5)) # 10^-3 to 10^3\n",
    "    accuracies = []\n",
    "    precisions = []\n",
    "    recalls = []\n",
    "    \n",
    "    for c in c_values:\n",
    "        kf = KFold(n_splits=10, shuffle = True)\n",
    "        acc_total = 0\n",
    "        recall_total = 0\n",
    "        prec_total = 0\n",
    "    \n",
    "        for train_index, test_index in kf.split(X):\n",
    "            X_train, X_test = X[train_index], X[test_index]\n",
    "            y_train, y_test = y[train_index], y[test_index]\n",
    "            clf = LogisticRegression(C=c).fit(X_train, y_train)\n",
    "            y_predict = clf.predict(X_test)\n",
    "            acc_total += accuracy_score(y_test, y_predict)\n",
    "            recall_total += recall_score(y_test, y_predict)\n",
    "            prec_total += precision_score(y_test, y_predict)\n",
    "        acc_total = acc_total / 10.0\n",
    "        recall_total = recall_total / 10.0\n",
    "        prec_total = prec_total / 10.0\n",
    "        accuracies.append(acc_total)\n",
    "        precisions.append(prec_total)\n",
    "        recalls.append(recall_total)\n",
    "    plt.figure()\n",
    "    plt.semilogx(c_values,  accuracies)\n",
    "    plt.title('Accuracy vs C')\n",
    "    plt.show() \n",
    "    best_c = np.argmax(accuracies)\n",
    "    print(\"Best C: %f\" % c_values[best_c])\n",
    "    print('Accuracy: %f' % accuracies[best_c])\n",
    "    print('Precision: %f' % precisions[best_c])\n",
    "    print('Recall: %f' % recalls[best_c])\n",
    "    \n",
    "    # Plot ROC and Confusion matrix with best C\n",
    "    X_train, X_test, y_train, y_test = train_test_split(X, y, train_size=0.9)\n",
    "    clf = LogisticRegression(C=c_values[best_c]).fit(X_train, y_train)\n",
    "    y_pred = clf.predict(X_test)\n",
    "    #print_metrics(y_test, y_pred)\n",
    "    fit_predict_and_plot_roc1(clf, X_test, y_test)\n",
    "    cnf_matrix = confusion_matrix(y_test, clf.predict(X_test))\n",
    "    plt.figure()\n",
    "    class_names = ['Massachusetts', 'Washington']\n",
    "    plot_confusion_matrix(cnf_matrix, classes=class_names,  normalize=True,\n",
    "                                  title='Logistic Regression Confusion matrix')\n",
    "    plt.show()\n",
    "    \n",
    "    \n",
    "y = np.array(Bin_Target_Train)\n",
    "logistic_classifier(X, y)"
   ]
  },
  {
   "cell_type": "code",
   "execution_count": null,
   "metadata": {},
   "outputs": [],
   "source": [
    "# SVM"
   ]
  },
  {
   "cell_type": "code",
   "execution_count": null,
   "metadata": {},
   "outputs": [],
   "source": [
    "# Naive Bayes"
   ]
  }
 ],
 "metadata": {
  "kernelspec": {
   "display_name": "Python 2",
   "language": "python",
   "name": "python2"
  },
  "language_info": {
   "codemirror_mode": {
    "name": "ipython",
    "version": 2
   },
   "file_extension": ".py",
   "mimetype": "text/x-python",
   "name": "python",
   "nbconvert_exporter": "python",
   "pygments_lexer": "ipython2",
   "version": "2.7.10"
  }
 },
 "nbformat": 4,
 "nbformat_minor": 2
}
